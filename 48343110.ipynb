{
 "cells": [
  {
   "cell_type": "markdown",
   "id": "7d9a0817-94fa-4741-b5a2-7ceb5c86e19b",
   "metadata": {},
   "source": [
    "### Importing necessary libraries and the dataset"
   ]
  },
  {
   "cell_type": "code",
   "execution_count": 31,
   "id": "54da0953-bcb5-4c75-a5ac-9c12ebb8b92c",
   "metadata": {},
   "outputs": [
    {
     "name": "stdout",
     "output_type": "stream",
     "text": [
      "The length of the dataset is : 1816\n"
     ]
    }
   ],
   "source": [
    "import pandas as pd\n",
    "import numpy as np\n",
    "from sklearn.model_selection import train_test_split\n",
    "from sklearn import linear_model\n",
    "from sklearn.metrics import r2_score\n",
    "import pandas as pd\n",
    "from sklearn.linear_model import LinearRegression\n",
    "\n",
    "from sklearn.model_selection import train_test_split\n",
    "from sklearn.linear_model import LogisticRegression\n",
    "from sklearn.metrics import accuracy_score\n",
    "from sklearn.neighbors import KNeighborsClassifier\n",
    "from sklearn.model_selection import train_test_split, GridSearchCV\n",
    "\n",
    "from sklearn.linear_model import LinearRegression\n",
    "from sklearn.metrics import mean_squared_error, r2_score\n",
    "\n",
    "from xgboost import XGBRegressor\n",
    "\n",
    "import seaborn as sns\n",
    "import matplotlib.pylab as plt\n",
    "%matplotlib inline\n",
    "\n",
    "dataset = pd.read_csv('smartphones.csv')\n",
    "print('The length of the dataset is : ' + str(len(dataset)))"
   ]
  },
  {
   "cell_type": "markdown",
   "id": "148bfbae-7e6d-4a80-82ce-7a326b77bca6",
   "metadata": {},
   "source": [
    "### Exploring the dataset"
   ]
  },
  {
   "cell_type": "code",
   "execution_count": 32,
   "id": "3eced970-b75b-4244-858f-aa37bc959e43",
   "metadata": {},
   "outputs": [
    {
     "data": {
      "text/html": [
       "<div>\n",
       "<style scoped>\n",
       "    .dataframe tbody tr th:only-of-type {\n",
       "        vertical-align: middle;\n",
       "    }\n",
       "\n",
       "    .dataframe tbody tr th {\n",
       "        vertical-align: top;\n",
       "    }\n",
       "\n",
       "    .dataframe thead th {\n",
       "        text-align: right;\n",
       "    }\n",
       "</style>\n",
       "<table border=\"1\" class=\"dataframe\">\n",
       "  <thead>\n",
       "    <tr style=\"text-align: right;\">\n",
       "      <th></th>\n",
       "      <th>Smartphone</th>\n",
       "      <th>Brand</th>\n",
       "      <th>Model</th>\n",
       "      <th>RAM</th>\n",
       "      <th>Storage</th>\n",
       "      <th>Color</th>\n",
       "      <th>Free</th>\n",
       "      <th>Final Price</th>\n",
       "    </tr>\n",
       "  </thead>\n",
       "  <tbody>\n",
       "    <tr>\n",
       "      <th>0</th>\n",
       "      <td>Realme C55 8/256GB Sunshower Libre</td>\n",
       "      <td>Realme</td>\n",
       "      <td>C55</td>\n",
       "      <td>8.0</td>\n",
       "      <td>256.0</td>\n",
       "      <td>Yellow</td>\n",
       "      <td>Yes</td>\n",
       "      <td>231.60</td>\n",
       "    </tr>\n",
       "    <tr>\n",
       "      <th>1</th>\n",
       "      <td>Samsung Galaxy M23 5G 4/128GB Azul Libre</td>\n",
       "      <td>Samsung</td>\n",
       "      <td>Galaxy M23</td>\n",
       "      <td>4.0</td>\n",
       "      <td>128.0</td>\n",
       "      <td>Blue</td>\n",
       "      <td>Yes</td>\n",
       "      <td>279.00</td>\n",
       "    </tr>\n",
       "    <tr>\n",
       "      <th>2</th>\n",
       "      <td>Motorola Moto G13 4/128GB Azul Lavanda Libre</td>\n",
       "      <td>Motorola</td>\n",
       "      <td>Moto G13</td>\n",
       "      <td>4.0</td>\n",
       "      <td>128.0</td>\n",
       "      <td>Blue</td>\n",
       "      <td>Yes</td>\n",
       "      <td>179.01</td>\n",
       "    </tr>\n",
       "    <tr>\n",
       "      <th>3</th>\n",
       "      <td>Xiaomi Redmi Note 11S 6/128GB Gris Libre</td>\n",
       "      <td>Xiaomi</td>\n",
       "      <td>Redmi Note 11S</td>\n",
       "      <td>6.0</td>\n",
       "      <td>128.0</td>\n",
       "      <td>Gray</td>\n",
       "      <td>Yes</td>\n",
       "      <td>279.99</td>\n",
       "    </tr>\n",
       "    <tr>\n",
       "      <th>4</th>\n",
       "      <td>Nothing Phone (2) 12/512GB Blanco Libre</td>\n",
       "      <td>Nothing</td>\n",
       "      <td>Phone (2)</td>\n",
       "      <td>12.0</td>\n",
       "      <td>512.0</td>\n",
       "      <td>White</td>\n",
       "      <td>Yes</td>\n",
       "      <td>799.00</td>\n",
       "    </tr>\n",
       "  </tbody>\n",
       "</table>\n",
       "</div>"
      ],
      "text/plain": [
       "                                     Smartphone     Brand           Model  \\\n",
       "0            Realme C55 8/256GB Sunshower Libre    Realme             C55   \n",
       "1      Samsung Galaxy M23 5G 4/128GB Azul Libre   Samsung      Galaxy M23   \n",
       "2  Motorola Moto G13 4/128GB Azul Lavanda Libre  Motorola        Moto G13   \n",
       "3      Xiaomi Redmi Note 11S 6/128GB Gris Libre    Xiaomi  Redmi Note 11S   \n",
       "4       Nothing Phone (2) 12/512GB Blanco Libre   Nothing       Phone (2)   \n",
       "\n",
       "    RAM  Storage   Color Free  Final Price  \n",
       "0   8.0    256.0  Yellow  Yes       231.60  \n",
       "1   4.0    128.0    Blue  Yes       279.00  \n",
       "2   4.0    128.0    Blue  Yes       179.01  \n",
       "3   6.0    128.0    Gray  Yes       279.99  \n",
       "4  12.0    512.0   White  Yes       799.00  "
      ]
     },
     "execution_count": 32,
     "metadata": {},
     "output_type": "execute_result"
    }
   ],
   "source": [
    "dataset.head()"
   ]
  },
  {
   "cell_type": "markdown",
   "id": "e681e255-2139-4e22-9e28-ab2aef01f7cb",
   "metadata": {},
   "source": [
    "### There are total 8 columns \n",
    "\n",
    "\n",
    "* Smartphone: The unique identifier or full name of the smartphone.\n",
    "* Brand: The brand of the smartphone.\n",
    "* Model: Specific model name of the smartphone.\n",
    "* RAM:The Amount of Memory in gigabytes.\n",
    "* Storage: Internal storage capacity in gigabytes.\n",
    "* Color: The color of the smartphone.\n",
    "* Free: Indicates if the phone is attached to a cell company contract.\n",
    "* Final Price: The final selling price in the respective currency."
   ]
  },
  {
   "cell_type": "code",
   "execution_count": 33,
   "id": "0f3dff78-29c6-4dfc-8def-237818193574",
   "metadata": {},
   "outputs": [
    {
     "name": "stdout",
     "output_type": "stream",
     "text": [
      "Smartphone       0\n",
      "Brand            0\n",
      "Model            0\n",
      "RAM            483\n",
      "Storage         25\n",
      "Color            0\n",
      "Free             0\n",
      "Final Price      0\n",
      "dtype: int64\n"
     ]
    }
   ],
   "source": [
    "missing_values = dataset.isnull().sum()\n",
    "print(missing_values)"
   ]
  },
  {
   "cell_type": "markdown",
   "id": "170318e7-c254-495a-b24f-dfb012f2cdb9",
   "metadata": {},
   "source": [
    "There is missing values of Ram and storage"
   ]
  },
  {
   "cell_type": "code",
   "execution_count": 34,
   "id": "9598125b-9b2e-4b1d-8bcf-04758331b630",
   "metadata": {},
   "outputs": [
    {
     "name": "stdout",
     "output_type": "stream",
     "text": [
      "0\n"
     ]
    }
   ],
   "source": [
    "duplicate_rows = dataset.duplicated().sum()\n",
    "print(duplicate_rows)"
   ]
  },
  {
   "cell_type": "markdown",
   "id": "1126745a-ec34-4544-98dd-23077459e0d2",
   "metadata": {},
   "source": [
    "There is no duplicated rows"
   ]
  },
  {
   "cell_type": "code",
   "execution_count": 35,
   "id": "517c59a3-a84a-4baa-b12d-98aad36d762d",
   "metadata": {},
   "outputs": [
    {
     "data": {
      "text/plain": [
       "Smartphone     0\n",
       "Brand          0\n",
       "Model          0\n",
       "RAM            0\n",
       "Storage        0\n",
       "Color          0\n",
       "Free           0\n",
       "Final Price    0\n",
       "dtype: int64"
      ]
     },
     "execution_count": 35,
     "metadata": {},
     "output_type": "execute_result"
    }
   ],
   "source": [
    "dataset['RAM'].fillna(dataset['RAM'].median(), inplace=True)\n",
    "dataset['Storage'].fillna(dataset['Storage'].median(), inplace=True)\n",
    "\n",
    "# Checking that there are nof missing values\n",
    "dataset.isnull().sum()"
   ]
  },
  {
   "cell_type": "markdown",
   "id": "c38d8398-a23b-48f6-9cb6-74c9d0e18062",
   "metadata": {},
   "source": [
    "Since \"RAM\" and \"Storage\" is numeric value. I filled the missing values with the median."
   ]
  },
  {
   "cell_type": "code",
   "execution_count": 36,
   "id": "c47ddca3-f471-4d8c-8d59-42867fc358f3",
   "metadata": {},
   "outputs": [],
   "source": [
    "dataset.drop('Smartphone', axis=1, inplace=True)"
   ]
  },
  {
   "cell_type": "code",
   "execution_count": 37,
   "id": "bac67254-2dbd-47b2-b569-aeea43112d19",
   "metadata": {},
   "outputs": [
    {
     "data": {
      "text/html": [
       "<div>\n",
       "<style scoped>\n",
       "    .dataframe tbody tr th:only-of-type {\n",
       "        vertical-align: middle;\n",
       "    }\n",
       "\n",
       "    .dataframe tbody tr th {\n",
       "        vertical-align: top;\n",
       "    }\n",
       "\n",
       "    .dataframe thead th {\n",
       "        text-align: right;\n",
       "    }\n",
       "</style>\n",
       "<table border=\"1\" class=\"dataframe\">\n",
       "  <thead>\n",
       "    <tr style=\"text-align: right;\">\n",
       "      <th></th>\n",
       "      <th>Brand</th>\n",
       "      <th>Model</th>\n",
       "      <th>RAM</th>\n",
       "      <th>Storage</th>\n",
       "      <th>Color</th>\n",
       "      <th>Free</th>\n",
       "      <th>Final Price</th>\n",
       "    </tr>\n",
       "  </thead>\n",
       "  <tbody>\n",
       "    <tr>\n",
       "      <th>0</th>\n",
       "      <td>Realme</td>\n",
       "      <td>C55</td>\n",
       "      <td>8.0</td>\n",
       "      <td>256.0</td>\n",
       "      <td>Yellow</td>\n",
       "      <td>Yes</td>\n",
       "      <td>231.60</td>\n",
       "    </tr>\n",
       "    <tr>\n",
       "      <th>1</th>\n",
       "      <td>Samsung</td>\n",
       "      <td>Galaxy M23</td>\n",
       "      <td>4.0</td>\n",
       "      <td>128.0</td>\n",
       "      <td>Blue</td>\n",
       "      <td>Yes</td>\n",
       "      <td>279.00</td>\n",
       "    </tr>\n",
       "    <tr>\n",
       "      <th>2</th>\n",
       "      <td>Motorola</td>\n",
       "      <td>Moto G13</td>\n",
       "      <td>4.0</td>\n",
       "      <td>128.0</td>\n",
       "      <td>Blue</td>\n",
       "      <td>Yes</td>\n",
       "      <td>179.01</td>\n",
       "    </tr>\n",
       "    <tr>\n",
       "      <th>3</th>\n",
       "      <td>Xiaomi</td>\n",
       "      <td>Redmi Note 11S</td>\n",
       "      <td>6.0</td>\n",
       "      <td>128.0</td>\n",
       "      <td>Gray</td>\n",
       "      <td>Yes</td>\n",
       "      <td>279.99</td>\n",
       "    </tr>\n",
       "    <tr>\n",
       "      <th>4</th>\n",
       "      <td>Nothing</td>\n",
       "      <td>Phone (2)</td>\n",
       "      <td>12.0</td>\n",
       "      <td>512.0</td>\n",
       "      <td>White</td>\n",
       "      <td>Yes</td>\n",
       "      <td>799.00</td>\n",
       "    </tr>\n",
       "  </tbody>\n",
       "</table>\n",
       "</div>"
      ],
      "text/plain": [
       "      Brand           Model   RAM  Storage   Color Free  Final Price\n",
       "0    Realme             C55   8.0    256.0  Yellow  Yes       231.60\n",
       "1   Samsung      Galaxy M23   4.0    128.0    Blue  Yes       279.00\n",
       "2  Motorola        Moto G13   4.0    128.0    Blue  Yes       179.01\n",
       "3    Xiaomi  Redmi Note 11S   6.0    128.0    Gray  Yes       279.99\n",
       "4   Nothing       Phone (2)  12.0    512.0   White  Yes       799.00"
      ]
     },
     "execution_count": 37,
     "metadata": {},
     "output_type": "execute_result"
    }
   ],
   "source": [
    "dataset.head()"
   ]
  },
  {
   "cell_type": "markdown",
   "id": "bffeb1c1-7a6c-46b1-8676-fbc881498226",
   "metadata": {},
   "source": [
    "The \"Smartphone\" column is a redundant as its a combination of \"Brand\" and \"Model\""
   ]
  },
  {
   "cell_type": "markdown",
   "id": "670e48e7-00bd-4465-aa76-e2809a605d00",
   "metadata": {},
   "source": [
    "### Exploratory data analysis"
   ]
  },
  {
   "cell_type": "markdown",
   "id": "9bd9d295-451c-4c73-b429-5c13b41a6603",
   "metadata": {},
   "source": [
    "#### The distribution of smartphone brands"
   ]
  },
  {
   "cell_type": "code",
   "execution_count": 38,
   "id": "cf2c4a58-2d21-47a4-9eb3-74df103e9478",
   "metadata": {},
   "outputs": [
    {
     "data": {
      "image/png": "[encoded data removed]",
      "text/plain": [
       "<Figure size 1000x500 with 1 Axes>"
      ]
     },
     "metadata": {},
     "output_type": "display_data"
    }
   ],
   "source": [
    "plt.figure(figsize=(10,5))\n",
    "plt.title(\"Top 5 Brands\")\n",
    "figure = sns.barplot(x=dataset.Brand.value_counts()[0:5].index ,y= dataset.Brand.value_counts()[0:5].values)\n",
    "for cotain in figure.containers : \n",
    "    figure.bar_label(cotain)\n",
    "plt.xlabel(\"Brands\")\n",
    "plt.ylabel(\"Frequance\")\n",
    "plt.show()"
   ]
  },
  {
   "cell_type": "markdown",
   "id": "525a4fae-5091-4158-9dce-1372c44a7a0c",
   "metadata": {},
   "source": [
    "Distribution of all Brands"
   ]
  },
  {
   "cell_type": "code",
   "execution_count": 39,
   "id": "ebe4e12c-b447-4aa5-bb0d-8e548eedd627",
   "metadata": {},
   "outputs": [
    {
     "name": "stdout",
     "output_type": "stream",
     "text": [
      "            count\n",
      "Brand            \n",
      "Samsung       458\n",
      "Xiaomi        351\n",
      "Apple         292\n",
      "Realme        117\n",
      "OPPO           92\n",
      "POCO           67\n",
      "Motorola       57\n",
      "Huawei         57\n",
      "TCL            36\n",
      "Cubot          34\n",
      "Ulefone        30\n",
      "Blackview      27\n",
      "Vivo           27\n",
      "Honor          27\n",
      "OnePlus        22\n",
      "Hammer         21\n",
      "ZTE            17\n",
      "Nokia          13\n",
      "SPC            11\n",
      "Google          9\n",
      "Nothing         9\n",
      "Alcatel         7\n",
      "Crosscall       7\n",
      "CAT             6\n",
      "Gigaset         3\n",
      "Qubo            3\n",
      "Asus            3\n",
      "Doro            3\n",
      "Sony            2\n",
      "Swissvoice      1\n",
      "Maxcom          1\n",
      "LG              1\n",
      "BQ              1\n",
      "Funker          1\n",
      "Fairphone       1\n",
      "Microsoft       1\n",
      "Lenovo          1\n"
     ]
    }
   ],
   "source": [
    "print(pd.DataFrame(dataset.Brand.value_counts()))"
   ]
  },
  {
   "cell_type": "markdown",
   "id": "d612fb3b-bca8-4505-af6c-d78d9a266b76",
   "metadata": {},
   "source": [
    "### Which brands has the highest average price"
   ]
  },
  {
   "cell_type": "code",
   "execution_count": 40,
   "id": "55815c99-50ee-4904-9158-09c09be1f6fc",
   "metadata": {},
   "outputs": [
    {
     "name": "stdout",
     "output_type": "stream",
     "text": [
      "Brand\n",
      "Apple      842.396815\n",
      "Lenovo     757.180000\n",
      "Asus       751.573333\n",
      "Nothing    657.748889\n",
      "Samsung    639.754367\n",
      "Name: Final Price, dtype: float64\n"
     ]
    }
   ],
   "source": [
    "print(dataset.groupby(\"Brand\")[\"Final Price\"].mean().sort_values(ascending=False)[:5])"
   ]
  },
  {
   "cell_type": "markdown",
   "id": "24884bc1-ceb8-404a-a7ef-5dd2ef28931e",
   "metadata": {},
   "source": [
    "### Checking if there is relation of Price with Ram and storage"
   ]
  },
  {
   "cell_type": "code",
   "execution_count": 41,
   "id": "6cb97da9-9257-4152-94e5-96a320ab5c60",
   "metadata": {},
   "outputs": [
    {
     "name": "stdout",
     "output_type": "stream",
     "text": [
      "             Final Price       RAM   Storage\n",
      "Final Price     1.000000  0.442088  0.696851\n",
      "RAM             0.442088  1.000000  0.413640\n",
      "Storage         0.696851  0.413640  1.000000\n"
     ]
    }
   ],
   "source": [
    "correlation_matrix = dataset[['Final Price', 'RAM', 'Storage']].corr()\n",
    "\n",
    "\n",
    "print(correlation_matrix)\n",
    "\n"
   ]
  },
  {
   "cell_type": "markdown",
   "id": "0c102424-44f1-48d3-956c-17ca4f6bba92",
   "metadata": {},
   "source": [
    "Storage has a strong correlation with Final Price"
   ]
  },
  {
   "cell_type": "markdown",
   "id": "8c8f3bfc-18da-47cc-9c99-93f5a6cdb080",
   "metadata": {},
   "source": [
    "### Checking the correlation between \"Free\" column and \"Final Price\""
   ]
  },
  {
   "cell_type": "code",
   "execution_count": 42,
   "id": "96ed1979-db8b-4f55-9789-5a93ba1e2a3a",
   "metadata": {},
   "outputs": [
    {
     "data": {
      "text/html": [
       "<div>\n",
       "<style scoped>\n",
       "    .dataframe tbody tr th:only-of-type {\n",
       "        vertical-align: middle;\n",
       "    }\n",
       "\n",
       "    .dataframe tbody tr th {\n",
       "        vertical-align: top;\n",
       "    }\n",
       "\n",
       "    .dataframe thead th {\n",
       "        text-align: right;\n",
       "    }\n",
       "</style>\n",
       "<table border=\"1\" class=\"dataframe\">\n",
       "  <thead>\n",
       "    <tr style=\"text-align: right;\">\n",
       "      <th></th>\n",
       "      <th>Brand</th>\n",
       "      <th>Model</th>\n",
       "      <th>RAM</th>\n",
       "      <th>Storage</th>\n",
       "      <th>Color</th>\n",
       "      <th>Free</th>\n",
       "      <th>Final Price</th>\n",
       "    </tr>\n",
       "  </thead>\n",
       "  <tbody>\n",
       "    <tr>\n",
       "      <th>0</th>\n",
       "      <td>Realme</td>\n",
       "      <td>C55</td>\n",
       "      <td>8.0</td>\n",
       "      <td>256.0</td>\n",
       "      <td>Yellow</td>\n",
       "      <td>1</td>\n",
       "      <td>231.60</td>\n",
       "    </tr>\n",
       "    <tr>\n",
       "      <th>1</th>\n",
       "      <td>Samsung</td>\n",
       "      <td>Galaxy M23</td>\n",
       "      <td>4.0</td>\n",
       "      <td>128.0</td>\n",
       "      <td>Blue</td>\n",
       "      <td>1</td>\n",
       "      <td>279.00</td>\n",
       "    </tr>\n",
       "    <tr>\n",
       "      <th>2</th>\n",
       "      <td>Motorola</td>\n",
       "      <td>Moto G13</td>\n",
       "      <td>4.0</td>\n",
       "      <td>128.0</td>\n",
       "      <td>Blue</td>\n",
       "      <td>1</td>\n",
       "      <td>179.01</td>\n",
       "    </tr>\n",
       "    <tr>\n",
       "      <th>3</th>\n",
       "      <td>Xiaomi</td>\n",
       "      <td>Redmi Note 11S</td>\n",
       "      <td>6.0</td>\n",
       "      <td>128.0</td>\n",
       "      <td>Gray</td>\n",
       "      <td>1</td>\n",
       "      <td>279.99</td>\n",
       "    </tr>\n",
       "    <tr>\n",
       "      <th>4</th>\n",
       "      <td>Nothing</td>\n",
       "      <td>Phone (2)</td>\n",
       "      <td>12.0</td>\n",
       "      <td>512.0</td>\n",
       "      <td>White</td>\n",
       "      <td>1</td>\n",
       "      <td>799.00</td>\n",
       "    </tr>\n",
       "  </tbody>\n",
       "</table>\n",
       "</div>"
      ],
      "text/plain": [
       "      Brand           Model   RAM  Storage   Color  Free  Final Price\n",
       "0    Realme             C55   8.0    256.0  Yellow     1       231.60\n",
       "1   Samsung      Galaxy M23   4.0    128.0    Blue     1       279.00\n",
       "2  Motorola        Moto G13   4.0    128.0    Blue     1       179.01\n",
       "3    Xiaomi  Redmi Note 11S   6.0    128.0    Gray     1       279.99\n",
       "4   Nothing       Phone (2)  12.0    512.0   White     1       799.00"
      ]
     },
     "execution_count": 42,
     "metadata": {},
     "output_type": "execute_result"
    }
   ],
   "source": [
    "dataset['Free'] = dataset['Free'].map({'Yes': 1, 'No': 0})\n",
    "dataset.head()\n"
   ]
  },
  {
   "cell_type": "code",
   "execution_count": 43,
   "id": "c2b47ee9-ec97-4542-a650-6a64cceabfbd",
   "metadata": {},
   "outputs": [
    {
     "name": "stdout",
     "output_type": "stream",
     "text": [
      "             Final Price      Free\n",
      "Final Price     1.000000 -0.044651\n",
      "Free           -0.044651  1.000000\n"
     ]
    }
   ],
   "source": [
    "correlation_matrix = dataset[['Final Price', 'Free']].corr()\n",
    "\n",
    "\n",
    "print(correlation_matrix)"
   ]
  },
  {
   "cell_type": "markdown",
   "id": "58e27768-7b90-4763-b2d0-92c485b3ccd0",
   "metadata": {},
   "source": [
    "There is no significant correlation"
   ]
  },
  {
   "cell_type": "markdown",
   "id": "4595c81d-bed8-4767-8388-a530729b8f3d",
   "metadata": {},
   "source": [
    "#### Selecting \"Ram\" and \"Storage\" as features then store it to X variable.\n",
    "#### Similarly, Y variable is holding targeted variable \"Final Price\"\n",
    "#### Then, splited the dataset 80% training and 20% testing\n"
   ]
  },
  {
   "cell_type": "code",
   "execution_count": 44,
   "id": "a63c80d0-c582-42e9-8d65-5a576ab7714d",
   "metadata": {},
   "outputs": [
    {
     "name": "stdout",
     "output_type": "stream",
     "text": [
      "Training set size: (1452, 2)\n",
      "Test set size: (364, 2)\n"
     ]
    }
   ],
   "source": [
    "X = dataset[['RAM', 'Storage']]  \n",
    "y = dataset['Final Price']             \n",
    "\n",
    "X_train, X_test, y_train, y_test = train_test_split(X, y, test_size=0.2, random_state=42)\n",
    "\n",
    "print(\"Training set size:\", X_train.shape)\n",
    "print(\"Test set size:\", X_test.shape)"
   ]
  },
  {
   "cell_type": "code",
   "execution_count": 45,
   "id": "02b4c493-18c6-48db-9e23-e94a924b9e5f",
   "metadata": {},
   "outputs": [
    {
     "name": "stdout",
     "output_type": "stream",
     "text": [
      "Training set MSE: 74459.85572215143\n",
      "Test set MSE: 88945.11622437261\n",
      "R2 Score for train: 0.5072682049842757\n",
      "R2 Score for test: 0.5276628622945794\n"
     ]
    }
   ],
   "source": [
    "model = LinearRegression()\n",
    "\n",
    "model.fit(X_train, y_train)\n",
    "\n",
    "y_train_pred = model.predict(X_train)\n",
    "y_test_pred = model.predict(X_test)\n",
    "\n",
    "train_mse = mean_squared_error(y_train, y_train_pred)\n",
    "test_mse = mean_squared_error(y_test, y_test_pred)\n",
    "\n",
    "print(\"Training set MSE:\", train_mse)\n",
    "print(\"Test set MSE:\", test_mse)\n",
    "\n",
    "\n",
    "model.fit(X_train ,y_train)\n",
    "y_pred = model.predict(X_test)\n",
    "y_prdict_train =model.predict(X_train)\n",
    "r2_train = r2_score(y_train, y_prdict_train)\n",
    "\n",
    "r2_test = r2_score(y_test, y_pred)\n",
    "print(\"R2 Score for train:\", r2_train)\n",
    "print(\"R2 Score for test:\", r2_test)"
   ]
  },
  {
   "cell_type": "markdown",
   "id": "f00e918b-46ce-4571-a023-a9a5dcdf9c06",
   "metadata": {},
   "source": [
    "#### In a Linear Regration model it is not performing well.There is room for improvement."
   ]
  },
  {
   "cell_type": "code",
   "execution_count": null,
   "id": "22abe01f-df5b-49cd-9e8c-6dc1103358bb",
   "metadata": {},
   "outputs": [],
   "source": []
  },
  {
   "cell_type": "code",
   "execution_count": 46,
   "id": "03fd0792-a404-458b-9f2b-6189d076420e",
   "metadata": {},
   "outputs": [],
   "source": [
    "model2 =XGBRegressor ()"
   ]
  },
  {
   "cell_type": "code",
   "execution_count": 47,
   "id": "9f509c7a-60b2-4f38-bf1d-e45eaa9b9c7d",
   "metadata": {},
   "outputs": [
    {
     "name": "stdout",
     "output_type": "stream",
     "text": [
      "R2 Score for train: 0.5688487120578363\n",
      "R2 Score for test: 0.606417756669323\n"
     ]
    }
   ],
   "source": [
    "model2.fit(X_train ,y_train)\n",
    "y_pred = model2.predict(X_test)\n",
    "y_prdict_train =model2.predict(X_train)\n",
    "r2_train = r2_score(y_train, y_prdict_train)\n",
    "\n",
    "r2_test = r2_score(y_test, y_pred)\n",
    "print(\"R2 Score for train:\", r2_train)\n",
    "print(\"R2 Score for test:\", r2_test)"
   ]
  },
  {
   "cell_type": "markdown",
   "id": "0f56d7db-3fe7-4718-9346-b57bf2e715e8",
   "metadata": {},
   "source": [
    "#### In model2 R2 score is performing slightly better.However, it's not a perfect fit"
   ]
  },
  {
   "cell_type": "code",
   "execution_count": null,
   "id": "92a6e2e7-e238-4a8f-8b88-f9d435a40466",
   "metadata": {},
   "outputs": [],
   "source": []
  },
  {
   "cell_type": "markdown",
   "id": "5dc79a41-17c3-41b3-b625-d250a40dbc2f",
   "metadata": {},
   "source": [
    "### Instead of only using \"RAM\" and \"Storage\". I will also take \"Brand\", \"Color\" and \"Model\" as features for better accuracy"
   ]
  },
  {
   "cell_type": "code",
   "execution_count": null,
   "id": "3d3e00e9-3318-4b32-8a6d-00b4d6fe4b9d",
   "metadata": {},
   "outputs": [],
   "source": []
  },
  {
   "cell_type": "markdown",
   "id": "6a934f90-bd6f-4c04-927f-5338dead69c3",
   "metadata": {},
   "source": [
    "Calculating the normalized frequency of each brand in the dataset and adds a new column \"brand_freq\" containing these frequencies to the dataset."
   ]
  },
  {
   "cell_type": "code",
   "execution_count": 48,
   "id": "017e2111-a76d-49f3-9582-6e6231ea813e",
   "metadata": {},
   "outputs": [],
   "source": [
    "brand_freq = dataset['Brand'].value_counts(normalize=True).to_dict()\n",
    "dataset['brand_freq'] = dataset['Brand'].map(brand_freq)"
   ]
  },
  {
   "cell_type": "markdown",
   "id": "5bf05471-2db8-4e3f-8c2e-ee74578c6b9e",
   "metadata": {},
   "source": [
    "Removing the column \"Brand\""
   ]
  },
  {
   "cell_type": "code",
   "execution_count": 49,
   "id": "bb0f8aa1-2d3a-4d1a-acd9-01ac44ef146c",
   "metadata": {},
   "outputs": [],
   "source": [
    "dataset.drop(columns=['Brand'] , inplace= True)"
   ]
  },
  {
   "cell_type": "markdown",
   "id": "89435ce4-14c1-4f99-a1b9-ccf0be5aedb1",
   "metadata": {},
   "source": [
    "Same as above for \"color\", \"Model\" and \"Free\" column"
   ]
  },
  {
   "cell_type": "code",
   "execution_count": 50,
   "id": "1c649754-28db-42e9-a4d3-5dbc4b1057b1",
   "metadata": {},
   "outputs": [],
   "source": [
    "color_freq = dataset['Color'].value_counts(normalize=True).to_dict()\n",
    "dataset['color_freq'] = dataset['Color'].map(color_freq)\n",
    "dataset.drop(columns=['Color'] , inplace= True)"
   ]
  },
  {
   "cell_type": "code",
   "execution_count": 51,
   "id": "8fa516f3-fd09-4e29-ab2e-3496f688fca2",
   "metadata": {},
   "outputs": [],
   "source": [
    "model_freq = dataset['Free'].value_counts(normalize=True).to_dict()\n",
    "dataset['Free_freq'] = dataset['Free'].map(model_freq)\n",
    "dataset.drop(columns=['Free'] , inplace= True)"
   ]
  },
  {
   "cell_type": "code",
   "execution_count": 52,
   "id": "86dc7a3e-6ab6-4cc7-9862-7c3bb28880d1",
   "metadata": {},
   "outputs": [],
   "source": [
    "model_freq = dataset['Model'].value_counts(normalize=True).to_dict()\n",
    "dataset['model_freq'] = dataset['Model'].map(model_freq)\n",
    "dataset.drop(columns=['Model'] , inplace= True)"
   ]
  },
  {
   "cell_type": "markdown",
   "id": "faab6bf4-a955-48d6-8ebd-4b3ddc1c44a3",
   "metadata": {},
   "source": [
    "Performing one-hot encoding to create new binary columns"
   ]
  },
  {
   "cell_type": "code",
   "execution_count": 53,
   "id": "04ab57c5-f4ca-41dc-9fed-501fa0bca268",
   "metadata": {},
   "outputs": [],
   "source": [
    "dataset = pd.get_dummies(dataset, columns=['RAM', 'Storage'], drop_first=True)"
   ]
  },
  {
   "cell_type": "code",
   "execution_count": 54,
   "id": "e8829d25-d330-4447-b26d-9b4c2000d5c8",
   "metadata": {},
   "outputs": [
    {
     "data": {
      "text/html": [
       "<div>\n",
       "<style scoped>\n",
       "    .dataframe tbody tr th:only-of-type {\n",
       "        vertical-align: middle;\n",
       "    }\n",
       "\n",
       "    .dataframe tbody tr th {\n",
       "        vertical-align: top;\n",
       "    }\n",
       "\n",
       "    .dataframe thead th {\n",
       "        text-align: right;\n",
       "    }\n",
       "</style>\n",
       "<table border=\"1\" class=\"dataframe\">\n",
       "  <thead>\n",
       "    <tr style=\"text-align: right;\">\n",
       "      <th></th>\n",
       "      <th>Final Price</th>\n",
       "      <th>brand_freq</th>\n",
       "      <th>color_freq</th>\n",
       "      <th>Free_freq</th>\n",
       "      <th>model_freq</th>\n",
       "      <th>RAM_2.0</th>\n",
       "      <th>RAM_3.0</th>\n",
       "      <th>RAM_4.0</th>\n",
       "      <th>RAM_6.0</th>\n",
       "      <th>RAM_8.0</th>\n",
       "      <th>...</th>\n",
       "      <th>Storage_4.0</th>\n",
       "      <th>Storage_8.0</th>\n",
       "      <th>Storage_12.0</th>\n",
       "      <th>Storage_16.0</th>\n",
       "      <th>Storage_32.0</th>\n",
       "      <th>Storage_64.0</th>\n",
       "      <th>Storage_128.0</th>\n",
       "      <th>Storage_256.0</th>\n",
       "      <th>Storage_512.0</th>\n",
       "      <th>Storage_1000.0</th>\n",
       "    </tr>\n",
       "  </thead>\n",
       "  <tbody>\n",
       "    <tr>\n",
       "      <th>0</th>\n",
       "      <td>231.60</td>\n",
       "      <td>0.064427</td>\n",
       "      <td>0.013216</td>\n",
       "      <td>0.975771</td>\n",
       "      <td>0.001652</td>\n",
       "      <td>False</td>\n",
       "      <td>False</td>\n",
       "      <td>False</td>\n",
       "      <td>False</td>\n",
       "      <td>True</td>\n",
       "      <td>...</td>\n",
       "      <td>False</td>\n",
       "      <td>False</td>\n",
       "      <td>False</td>\n",
       "      <td>False</td>\n",
       "      <td>False</td>\n",
       "      <td>False</td>\n",
       "      <td>False</td>\n",
       "      <td>True</td>\n",
       "      <td>False</td>\n",
       "      <td>False</td>\n",
       "    </tr>\n",
       "    <tr>\n",
       "      <th>1</th>\n",
       "      <td>279.00</td>\n",
       "      <td>0.252203</td>\n",
       "      <td>0.186674</td>\n",
       "      <td>0.975771</td>\n",
       "      <td>0.002203</td>\n",
       "      <td>False</td>\n",
       "      <td>False</td>\n",
       "      <td>True</td>\n",
       "      <td>False</td>\n",
       "      <td>False</td>\n",
       "      <td>...</td>\n",
       "      <td>False</td>\n",
       "      <td>False</td>\n",
       "      <td>False</td>\n",
       "      <td>False</td>\n",
       "      <td>False</td>\n",
       "      <td>False</td>\n",
       "      <td>True</td>\n",
       "      <td>False</td>\n",
       "      <td>False</td>\n",
       "      <td>False</td>\n",
       "    </tr>\n",
       "    <tr>\n",
       "      <th>2</th>\n",
       "      <td>179.01</td>\n",
       "      <td>0.031388</td>\n",
       "      <td>0.186674</td>\n",
       "      <td>0.975771</td>\n",
       "      <td>0.001101</td>\n",
       "      <td>False</td>\n",
       "      <td>False</td>\n",
       "      <td>True</td>\n",
       "      <td>False</td>\n",
       "      <td>False</td>\n",
       "      <td>...</td>\n",
       "      <td>False</td>\n",
       "      <td>False</td>\n",
       "      <td>False</td>\n",
       "      <td>False</td>\n",
       "      <td>False</td>\n",
       "      <td>False</td>\n",
       "      <td>True</td>\n",
       "      <td>False</td>\n",
       "      <td>False</td>\n",
       "      <td>False</td>\n",
       "    </tr>\n",
       "    <tr>\n",
       "      <th>3</th>\n",
       "      <td>279.99</td>\n",
       "      <td>0.193282</td>\n",
       "      <td>0.107930</td>\n",
       "      <td>0.975771</td>\n",
       "      <td>0.003304</td>\n",
       "      <td>False</td>\n",
       "      <td>False</td>\n",
       "      <td>False</td>\n",
       "      <td>True</td>\n",
       "      <td>False</td>\n",
       "      <td>...</td>\n",
       "      <td>False</td>\n",
       "      <td>False</td>\n",
       "      <td>False</td>\n",
       "      <td>False</td>\n",
       "      <td>False</td>\n",
       "      <td>False</td>\n",
       "      <td>True</td>\n",
       "      <td>False</td>\n",
       "      <td>False</td>\n",
       "      <td>False</td>\n",
       "    </tr>\n",
       "    <tr>\n",
       "      <th>4</th>\n",
       "      <td>799.00</td>\n",
       "      <td>0.004956</td>\n",
       "      <td>0.093612</td>\n",
       "      <td>0.975771</td>\n",
       "      <td>0.002203</td>\n",
       "      <td>False</td>\n",
       "      <td>False</td>\n",
       "      <td>False</td>\n",
       "      <td>False</td>\n",
       "      <td>False</td>\n",
       "      <td>...</td>\n",
       "      <td>False</td>\n",
       "      <td>False</td>\n",
       "      <td>False</td>\n",
       "      <td>False</td>\n",
       "      <td>False</td>\n",
       "      <td>False</td>\n",
       "      <td>False</td>\n",
       "      <td>False</td>\n",
       "      <td>True</td>\n",
       "      <td>False</td>\n",
       "    </tr>\n",
       "  </tbody>\n",
       "</table>\n",
       "<p>5 rows × 22 columns</p>\n",
       "</div>"
      ],
      "text/plain": [
       "   Final Price  brand_freq  color_freq  Free_freq  model_freq  RAM_2.0  \\\n",
       "0       231.60    0.064427    0.013216   0.975771    0.001652    False   \n",
       "1       279.00    0.252203    0.186674   0.975771    0.002203    False   \n",
       "2       179.01    0.031388    0.186674   0.975771    0.001101    False   \n",
       "3       279.99    0.193282    0.107930   0.975771    0.003304    False   \n",
       "4       799.00    0.004956    0.093612   0.975771    0.002203    False   \n",
       "\n",
       "   RAM_3.0  RAM_4.0  RAM_6.0  RAM_8.0  ...  Storage_4.0  Storage_8.0  \\\n",
       "0    False    False    False     True  ...        False        False   \n",
       "1    False     True    False    False  ...        False        False   \n",
       "2    False     True    False    False  ...        False        False   \n",
       "3    False    False     True    False  ...        False        False   \n",
       "4    False    False    False    False  ...        False        False   \n",
       "\n",
       "   Storage_12.0  Storage_16.0  Storage_32.0  Storage_64.0  Storage_128.0  \\\n",
       "0         False         False         False         False          False   \n",
       "1         False         False         False         False           True   \n",
       "2         False         False         False         False           True   \n",
       "3         False         False         False         False           True   \n",
       "4         False         False         False         False          False   \n",
       "\n",
       "   Storage_256.0  Storage_512.0  Storage_1000.0  \n",
       "0           True          False           False  \n",
       "1          False          False           False  \n",
       "2          False          False           False  \n",
       "3          False          False           False  \n",
       "4          False           True           False  \n",
       "\n",
       "[5 rows x 22 columns]"
      ]
     },
     "execution_count": 54,
     "metadata": {},
     "output_type": "execute_result"
    }
   ],
   "source": [
    "dataset.head()"
   ]
  },
  {
   "cell_type": "code",
   "execution_count": 55,
   "id": "bb04f069-8d86-472b-920d-225ed97059c7",
   "metadata": {},
   "outputs": [],
   "source": [
    "X = dataset.drop('Final Price', axis=1)\n",
    "y = dataset['Final Price']"
   ]
  },
  {
   "cell_type": "code",
   "execution_count": 56,
   "id": "27ea367e-4cd2-4e17-b5f0-38049d56f272",
   "metadata": {},
   "outputs": [],
   "source": [
    "X_train, X_test, y_train, y_test = train_test_split(X, y, test_size=0.2, random_state=42)"
   ]
  },
  {
   "cell_type": "code",
   "execution_count": null,
   "id": "d1decbc9-9878-42d5-ae08-be28a737e6de",
   "metadata": {},
   "outputs": [],
   "source": []
  },
  {
   "cell_type": "code",
   "execution_count": 57,
   "id": "326d27b7-30d5-4843-b158-3f274b5ea45d",
   "metadata": {},
   "outputs": [
    {
     "name": "stdout",
     "output_type": "stream",
     "text": [
      "Training set MSE: 49595.3741388934\n",
      "Test set MSE: 71183.87370985023\n",
      "R2 Score for train: 0.6718068080185196\n",
      "R2 Score for test: 0.6219827621105347\n"
     ]
    }
   ],
   "source": [
    "model = LinearRegression()\n",
    "\n",
    "model.fit(X_train, y_train)\n",
    "\n",
    "y_train_pred = model.predict(X_train)\n",
    "y_test_pred = model.predict(X_test)\n",
    "\n",
    "train_mse = mean_squared_error(y_train, y_train_pred)\n",
    "test_mse = mean_squared_error(y_test, y_test_pred)\n",
    "\n",
    "print(\"Training set MSE:\", train_mse)\n",
    "print(\"Test set MSE:\", test_mse)\n",
    "\n",
    "r2_train = r2_score(y_train, y_train_pred)\n",
    "r2_test = r2_score(y_test, y_test_pred)\n",
    "\n",
    "print(\"R2 Score for train:\", r2_train)\n",
    "print(\"R2 Score for test:\", r2_test)\n"
   ]
  },
  {
   "cell_type": "markdown",
   "id": "a140dd2d-ee33-4167-98a6-55bf1fd5dbbb",
   "metadata": {},
   "source": [
    "The liner Regration model performs slightly better than the previous one"
   ]
  },
  {
   "cell_type": "code",
   "execution_count": null,
   "id": "dc507188-6eaa-4cde-8e81-4f395efd867f",
   "metadata": {},
   "outputs": [],
   "source": []
  },
  {
   "cell_type": "code",
   "execution_count": 58,
   "id": "4da25235-7a1b-4c21-90b1-eeeb3d08ae15",
   "metadata": {},
   "outputs": [
    {
     "data": {
      "image/png": "[encoded data removed]",
      "text/plain": [
       "<Figure size 640x480 with 1 Axes>"
      ]
     },
     "metadata": {},
     "output_type": "display_data"
    }
   ],
   "source": [
    "\n",
    "lr_metrics = ['Train R2', 'Test R2']\n",
    "lr_values = [r2_train, r2_test] \n",
    "\n",
    "fig, ax = plt.subplots()\n",
    "rects = ax.bar(lr_metrics, lr_values, color='blue')\n",
    "ax.set_ylim(0, 1)\n",
    "\n",
    "ax.set_ylabel('Scores')\n",
    "ax.set_title('Linear Regression Performance')\n",
    "ax.bar_label(rects, padding=3)\n",
    "\n",
    "plt.show()\n"
   ]
  },
  {
   "cell_type": "code",
   "execution_count": null,
   "id": "49b932b5-b8cd-4cdc-b5b4-6cc8211cdb34",
   "metadata": {},
   "outputs": [],
   "source": []
  },
  {
   "cell_type": "code",
   "execution_count": null,
   "id": "0bb4bc53-64ed-4683-acee-5b57b299fc50",
   "metadata": {},
   "outputs": [],
   "source": []
  },
  {
   "cell_type": "code",
   "execution_count": 59,
   "id": "9548d998-d64b-42fd-8de1-34e777d3968b",
   "metadata": {},
   "outputs": [
    {
     "name": "stdout",
     "output_type": "stream",
     "text": [
      "R2 Score for train:  0.9530605928482123\n",
      "R2 Score for test:  0.758126797625932\n"
     ]
    }
   ],
   "source": [
    "model2.fit(X_train ,y_train)\n",
    "y_pred = model2.predict(X_test)\n",
    "y_prdict_train =model2.predict(X_train)\n",
    "r2_train = r2_score(y_train, y_prdict_train)\n",
    "\n",
    "r2_test = r2_score(y_test, y_pred)\n",
    "print(\"R2 Score for train: \",r2_train)\n",
    "print(\"R2 Score for test: \",r2_test)\n"
   ]
  },
  {
   "cell_type": "markdown",
   "id": "cda74717-1d23-4024-acc2-d528a1ec70b1",
   "metadata": {},
   "source": [
    "Here, the testing data is performing slightly less than training data.However,the model still performs well on both data and\n",
    "indicates a good generalisation on unseen data."
   ]
  },
  {
   "cell_type": "code",
   "execution_count": 60,
   "id": "e8aff6b7-5396-49be-9aee-c2bead020824",
   "metadata": {},
   "outputs": [
    {
     "data": {
      "image/png": "[encoded data removed]",
      "text/plain": [
       "<Figure size 640x480 with 1 Axes>"
      ]
     },
     "metadata": {},
     "output_type": "display_data"
    }
   ],
   "source": [
    "lr_metrics = ['Train R2', 'Test R2']\n",
    "lr_values = [r2_train, r2_test] \n",
    "\n",
    "\n",
    "fig, ax = plt.subplots()\n",
    "rects = ax.bar(lr_metrics, lr_values, color='green')\n",
    "ax.set_ylim(0, 1)\n",
    "ax.set_ylabel('Scores')\n",
    "ax.set_title('XGBRegressor Performance')\n",
    "ax.bar_label(rects, padding=3)\n",
    "\n",
    "plt.show()"
   ]
  },
  {
   "cell_type": "code",
   "execution_count": null,
   "id": "3393b788-1084-4ffc-8f57-4a660e10cfb2",
   "metadata": {},
   "outputs": [],
   "source": []
  },
  {
   "cell_type": "code",
   "execution_count": null,
   "id": "6d4c1660-c938-411c-b465-5c2cd5026bba",
   "metadata": {},
   "outputs": [],
   "source": []
  }
 ],
 "metadata": {
  "kernelspec": {
   "display_name": "Python 3 (ipykernel)",
   "language": "python",
   "name": "python3"
  },
  "language_info": {
   "codemirror_mode": {
    "name": "ipython",
    "version": 3
   },
   "file_extension": ".py",
   "mimetype": "text/x-python",
   "name": "python",
   "nbconvert_exporter": "python",
   "pygments_lexer": "ipython3",
   "version": "3.11.7"
  }
 },
 "nbformat": 4,
 "nbformat_minor": 5
}
